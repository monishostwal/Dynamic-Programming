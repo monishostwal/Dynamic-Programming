{
 "cells": [
  {
   "cell_type": "markdown",
   "metadata": {},
   "source": [
    "# Fibonacci "
   ]
  },
  {
   "cell_type": "code",
   "execution_count": 1,
   "metadata": {},
   "outputs": [
    {
     "name": "stdout",
     "output_type": "stream",
     "text": [
      "1\n",
      "5\n",
      "1 1 2 3 5 \n"
     ]
    }
   ],
   "source": [
    "t=int(input())\n",
    "for _ in range(t):\n",
    "    n=int(input())\n",
    "    lst=[1,1]\n",
    "    for i in range(2,n):\n",
    "        lst.append(lst[i-1]+lst[i-2])\n",
    "    for i in range(0,n):\n",
    "        print(lst[i],end=\" \")\n",
    "    print()"
   ]
  },
  {
   "cell_type": "markdown",
   "metadata": {},
   "source": [
    "#  Count ways to reach the n'th stair"
   ]
  },
  {
   "cell_type": "code",
   "execution_count": 43,
   "metadata": {},
   "outputs": [],
   "source": [
    "def count(n):\n",
    "    lst=[1,2]\n",
    "    for i in range(2,n):\n",
    "        lst.append(lst[i-1]+lst[i-2])\n",
    "    \n",
    "    return lst[-1]"
   ]
  },
  {
   "cell_type": "code",
   "execution_count": 46,
   "metadata": {},
   "outputs": [
    {
     "name": "stdout",
     "output_type": "stream",
     "text": [
      "93254120\n"
     ]
    }
   ],
   "source": [
    "\n",
    "print(count(84)%1000000007)"
   ]
  },
  {
   "cell_type": "markdown",
   "metadata": {},
   "source": [
    "# Maximum segment of rod"
   ]
  },
  {
   "cell_type": "code",
   "execution_count": 1,
   "metadata": {},
   "outputs": [
    {
     "name": "stdout",
     "output_type": "stream",
     "text": [
      "1\n",
      "4\n",
      "1 1 2\n",
      "4\n"
     ]
    }
   ],
   "source": [
    "t=int(input())\n",
    "for _ in range(t):\n",
    "    n=int(input())\n",
    "    x,y,z=input().split()\n",
    "    x,y,z=int(x),int(y),int(z)\n",
    "    dp=[-1 for p in range(n+1)]\n",
    "    dp[0]=0\n",
    "    for i in range(len(dp)):\n",
    "        if(dp[i]!=-1):\n",
    "            if(i+x<=n):\n",
    "                dp[i+x]=max(dp[i+x],dp[i]+1)\n",
    "            if(i+y<=n):\n",
    "                dp[i+y]=max(dp[i+y],dp[i]+1)\n",
    "            if(i+z<=n):\n",
    "                dp[i+z]=max(dp[i+z],dp[i]+1)\n",
    "    print(dp[-1])\n",
    "            \n",
    "\n"
   ]
  },
  {
   "cell_type": "markdown",
   "metadata": {},
   "source": [
    "# Kadane Algorithm\n",
    "Given an array arr of N integers. Find the contiguous sub-array with maximum sum."
   ]
  },
  {
   "cell_type": "code",
   "execution_count": 1,
   "metadata": {},
   "outputs": [
    {
     "name": "stdout",
     "output_type": "stream",
     "text": [
      "1\n",
      "5\n",
      "1 2 3 4 -5\n",
      "10\n"
     ]
    }
   ],
   "source": [
    "t=int(input())\n",
    "for _ in range(t):\n",
    "    n=int(input())\n",
    "    lst=list(map(int,input().split()))\n",
    "    maximum_sum=lst[0]\n",
    "    total_till_now=0\n",
    "    for i in range(len(lst)):\n",
    "        total_till_now+=lst[i]\n",
    "        if(maximum_sum<total_till_now):\n",
    "            maximum_sum=total_till_now\n",
    "        if(total_till_now<0):\n",
    "            total_till_now=0\n",
    "    print(maximum_sum)\n",
    "    "
   ]
  },
  {
   "cell_type": "markdown",
   "metadata": {},
   "source": [
    "# Largest divisible pairs subset"
   ]
  },
  {
   "cell_type": "code",
   "execution_count": 1,
   "metadata": {},
   "outputs": [
    {
     "name": "stdout",
     "output_type": "stream",
     "text": [
      "4\n"
     ]
    }
   ],
   "source": [
    "def largestSubset(a, n):\n",
    "    \n",
    "    dp = [0 for i in range(n)]\n",
    "    dp[n - 1] = 1; \n",
    " \n",
    "    for i in range(n - 2, -1, -1):\n",
    "         \n",
    "        mxm = 0;\n",
    "        for j in range(i + 1, n):\n",
    "            if a[j] % a[i] == 0 or a[i] % a[j] == 0:\n",
    "                mxm = max(mxm, dp[j])\n",
    "        dp[i] = 1 + mxm\n",
    "         \n",
    " \n",
    "    return max(dp)\n",
    " \n",
    "a = [ 1, 3, 6, 13, 17, 18 ]\n",
    "n = len(a)\n",
    "print(largestSubset(a, n))\n",
    " "
   ]
  },
  {
   "cell_type": "markdown",
   "metadata": {},
   "source": [
    "# Cutting a Rod"
   ]
  },
  {
   "cell_type": "code",
   "execution_count": 1,
   "metadata": {},
   "outputs": [
    {
     "name": "stdout",
     "output_type": "stream",
     "text": [
      "Maximum Obtainable Value is 22\n"
     ]
    }
   ],
   "source": [
    "\n",
    "INT_MIN = -32767\n",
    "  \n",
    "\n",
    "def cutRod(price, n): \n",
    "    val = [0 for x in range(n+1)] \n",
    "    val[0] = 0\n",
    "  \n",
    "\n",
    "    for i in range(1, n+1): \n",
    "        max_val = INT_MIN \n",
    "        for j in range(i): \n",
    "             max_val = max(max_val, price[j] + val[i-j-1]) \n",
    "        val[i] = max_val \n",
    "  \n",
    "    return val[n] \n",
    "\n",
    "arr = [1, 5, 8, 9, 10, 17, 17, 20] \n",
    "size = len(arr) \n",
    "print(\"Maximum Obtainable Value is \" + str(cutRod(arr, size))) \n",
    "  "
   ]
  },
  {
   "cell_type": "code",
   "execution_count": null,
   "metadata": {},
   "outputs": [],
   "source": []
  }
 ],
 "metadata": {
  "kernelspec": {
   "display_name": "Python 3",
   "language": "python",
   "name": "python3"
  },
  "language_info": {
   "codemirror_mode": {
    "name": "ipython",
    "version": 3
   },
   "file_extension": ".py",
   "mimetype": "text/x-python",
   "name": "python",
   "nbconvert_exporter": "python",
   "pygments_lexer": "ipython3",
   "version": "3.7.6"
  }
 },
 "nbformat": 4,
 "nbformat_minor": 2
}
